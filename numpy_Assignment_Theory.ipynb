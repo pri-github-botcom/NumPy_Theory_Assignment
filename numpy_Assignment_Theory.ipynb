{
  "cells": [
    {
      "cell_type": "markdown",
      "metadata": {
        "id": "PhOAxoCXeI8R"
      },
      "source": [
        "#1) Explain the purpose and advantages of NumPy in scientific computing and data analysis. How does it enhance Python's capabilities for numerical operations?\n",
        "\n",
        "Solution:-\n",
        "\n",
        "NumPy (Numerical Python) is a fundamental library in python used fr numerical and scientific computing. Its primary purpose is to provide support for large multi-dimensional arrays and matrices, along with the collection of mathematical functions to operate on these array efficiency.\n",
        "\n",
        "Advantages of NumPy:-\n",
        "\n",
        "1) Efficient Data Structures:- NumPy arrays are more compact and efficient than python lists, especially when dealing with large datasets. The arrays are stored in contiguous memory, allowing faster access and manipulatin of data.\n",
        "\n",
        "2) Fast Computation:- NumPy is implemented in C, making it much faster than Python's native listsfor numerical operations. It supports element-wise operations on arrays,which means it can perform batch computations on data, speeding up processes like matrix multiplication and linear algebra.\n",
        "\n",
        "3) Broadcasting:- NumPy enables broadcasting, a mechanism that allows operations between arrays of different shapes. This eliminates the need for explicit looping and reshaping, reducing both the complexity and executing time of the code.\n",
        "\n",
        "4) Integratin with other liberaries:- Many other scientific liberaries rely on NumPy as their core. This makes NumPy an essential tool in the Python data science ecosystem.\n",
        "\n",
        "5) Extensive Mathematical Functions:- NumPy provides an extensive collection of built-in mathematical functions as trignometric, statistical, and algebric functions, optimised for perfrmance.\n",
        "\n",
        "6) Support for mathematical arrays:- It supports multi-dimensional arrays(n- dimensional), allowing scientists and analysts to perform operations on large datasetslike images, signal or other forms of complex data.\n",
        "\n",
        "\n",
        "Role of NumPy in enhancing capabilities of python in mathematical operations:-\n",
        "\n",
        "1) Efficient Array Handling:-\n",
        "\n",
        "NumPy Arrays (ndarray)\n",
        "\n",
        "* At the core of the Numpy is the ndarray (n-dimensional array), which allows for the efficient storage and the manipulation of homogenous(some data type) multi dimensional data. These arrays are more memory efficient and faster than Python's native lists, as they store data in a continguoous block of memory, reducing overhead.\n",
        "\n",
        "Advantages of ndarray:\n",
        "\n",
        "* Fixed size:- Unlike Python's lists, NumPy arrays have a fixed size once created, which avoids dynamic resizing and overhead associated with lists.\n",
        "\n",
        "* Homogeneous elements:- NumPy elements stores elements of the same type, which avoids the need for type checking at runtime and allows for optimised memory layouts.\n",
        "\n",
        "* Contiguous Memory Layout:- The data is stored in contiguous memory locations, which spreads up operations by reducing memory access times.\n",
        "\n",
        "Example:\n",
        "\n",
        "\n"
      ]
    },
    {
      "cell_type": "code",
      "execution_count": null,
      "metadata": {
        "colab": {
          "base_uri": "https://localhost:8080/"
        },
        "id": "yCWwLKmS_7Zx",
        "outputId": "b4e44800-3c18-4df9-dbc7-dcf1c0973c73"
      },
      "outputs": [
        {
          "output_type": "execute_result",
          "data": {
            "text/plain": [
              "array([1, 2, 3, 4, 5])"
            ]
          },
          "metadata": {},
          "execution_count": 2
        }
      ],
      "source": [
        "import numpy as np\n",
        "l = [1,2,3,4,5]\n",
        "np.array(l)"
      ]
    },
    {
      "cell_type": "markdown",
      "metadata": {
        "id": "3vL-5Kq_Ayk_"
      },
      "source": [
        "2) Vectorized operations:- One of the most important function of NumPy is Vectorization. In NumPy, operations can be applied element-wise n entire arrays without the need for explicit loops. This allows pPython's code to run faster and makes it more concise and readable.\n",
        "\n",
        "Element-wise Operatins:\n",
        "\n",
        "NumPy allows for operations like addition, substraction, multiplication, division and more to be applied on all elements of an array simultaneously, bypassing the need for Python's loops, which are slower.\n",
        "\n",
        "Example:\n",
        "\n"
      ]
    },
    {
      "cell_type": "code",
      "execution_count": null,
      "metadata": {
        "colab": {
          "base_uri": "https://localhost:8080/"
        },
        "id": "JwyynjavCFLS",
        "outputId": "dafc0890-9cb0-4d07-c1f3-c4f576278da8"
      },
      "outputs": [
        {
          "data": {
            "text/plain": [
              "array([ 7,  9, 11, 13, 15])"
            ]
          },
          "execution_count": 4,
          "metadata": {},
          "output_type": "execute_result"
        }
      ],
      "source": [
        "a = np.array([1,2,3,4,5])\n",
        "b = np.array([6,7,8,9,10])\n",
        "a+b"
      ]
    },
    {
      "cell_type": "markdown",
      "metadata": {
        "id": "tKbAGbUlCmk7"
      },
      "source": [
        "3) Broadcasting:-\n",
        "\n",
        "Broadcasting is a powerful mechanism in NumPy that allows arrays of different shapes to be used together in arithmatic operations. NumPy automatically adjusts the shapes of the arrays without making explicit copies enabling concise and efficient code.\n",
        "\n",
        "Example:"
      ]
    },
    {
      "cell_type": "code",
      "execution_count": null,
      "metadata": {
        "colab": {
          "base_uri": "https://localhost:8080/"
        },
        "id": "tESyl_H8DTVC",
        "outputId": "ba1fe2e3-62bb-4252-f7aa-c80b40db0e89"
      },
      "outputs": [
        {
          "data": {
            "text/plain": [
              "array([10, 20, 30])"
            ]
          },
          "execution_count": 5,
          "metadata": {},
          "output_type": "execute_result"
        }
      ],
      "source": [
        "a = np.array([1,2,3])\n",
        "b = 10  # Scaler value\n",
        "a*b # Broadcasting"
      ]
    },
    {
      "cell_type": "markdown",
      "metadata": {
        "id": "gRpQ7p5qExop"
      },
      "source": [
        "4) Advanced Indexing and Slicing:-\n",
        "\n",
        "NumPy allows for advanced indexing and slicing, making it easier and faster to access and modify specific parts of arrays. The capability enhances Python's built-in list slicing functionality and prvide more flexibility.\n",
        "\n",
        "Basic Slicing: Just like Python lists, NumPy arrays support slicing, but with more options, including multi-dimensional slicing.\n",
        "\n",
        "Example:"
      ]
    },
    {
      "cell_type": "code",
      "execution_count": null,
      "metadata": {
        "colab": {
          "base_uri": "https://localhost:8080/"
        },
        "id": "_s4RZ6lDF05N",
        "outputId": "453645fd-fe9f-49d0-f913-684483025e5a"
      },
      "outputs": [
        {
          "name": "stdout",
          "output_type": "stream",
          "text": [
            "[[2 3]\n",
            " [5 6]]\n"
          ]
        }
      ],
      "source": [
        "array = np.array([[1,2,3,], [4,5,6], [7,8,9]])\n",
        "sub_array = array[0:2, 1:3]\n",
        "print(sub_array)"
      ]
    },
    {
      "cell_type": "markdown",
      "metadata": {
        "id": "hhDMGlOgHSA9"
      },
      "source": [
        "Boolean Indexing:"
      ]
    },
    {
      "cell_type": "code",
      "execution_count": null,
      "metadata": {
        "colab": {
          "base_uri": "https://localhost:8080/"
        },
        "id": "RmB3aJ10HWjY",
        "outputId": "8c6abe65-fab1-4be6-c849-c954b75ac7f9"
      },
      "outputs": [
        {
          "name": "stdout",
          "output_type": "stream",
          "text": [
            "[3 4 5]\n"
          ]
        }
      ],
      "source": [
        "arr= np.array([1,2,3,4,5])\n",
        "filtered_array = arr[arr>2]\n",
        "print(filtered_array)"
      ]
    },
    {
      "cell_type": "markdown",
      "metadata": {
        "id": "EajSY-8KIC6F"
      },
      "source": [
        "5) Support for multi-dimensional arrays:-\n",
        "\n",
        "Unlike Python lists, which are typically used for one-dimensional or simple nested data, NumPy efficiently handles n-dimensional arrays, making it highly useful for tasks involving multi-dimensional data (e.g. images, 3D geomatry, or scientific data).\n",
        "\n",
        "Multidimensional array creation:-\n",
        "\n",
        "NumPy arrays can be created with mre than ne dimension easily, enabling complex data manipulations across various dimensions.\n",
        "\n",
        "Example:"
      ]
    },
    {
      "cell_type": "code",
      "execution_count": null,
      "metadata": {
        "colab": {
          "base_uri": "https://localhost:8080/"
        },
        "id": "D9kf90p_Ju6i",
        "outputId": "3844ada1-b822-43d0-cfba-a1da2fdc2bef"
      },
      "outputs": [
        {
          "name": "stdout",
          "output_type": "stream",
          "text": [
            "[[1 2 3]\n",
            " [4 5 6]\n",
            " [7 8 9]]\n"
          ]
        }
      ],
      "source": [
        "matrix = np.array([[1,2,3], [4,5,6], [7,8,9]])\n",
        "print(matrix)"
      ]
    },
    {
      "cell_type": "markdown",
      "metadata": {
        "id": "IFXECwoBKjY5"
      },
      "source": [
        "6) Mathematical and Statistical Functions:-\n",
        "\n",
        "NumPy comes up with an extensive suit of optimized mathematical and stastical functins which are essential for scientific cmputing.\n",
        "\n",
        "Mathematical Operations:-\n",
        "\n",
        "NumPy provides functions for a wide range of mathematical operations like trigonomatry (sin,cos), exponential and logarithmic functions, power functionsetc.\n",
        "\n",
        "Linear Algebra:-\n",
        "\n",
        "NumPy includes functions for matrix operations through np.linalg.\n",
        "\n",
        "Exaple;\n",
        "\n"
      ]
    },
    {
      "cell_type": "code",
      "execution_count": null,
      "metadata": {
        "colab": {
          "base_uri": "https://localhost:8080/"
        },
        "id": "JYkZnX3AMKh5",
        "outputId": "906caa5f-2be7-4f8b-bc6f-02b032a97307"
      },
      "outputs": [
        {
          "data": {
            "text/plain": [
              "array([[19, 22],\n",
              "       [43, 50]])"
            ]
          },
          "execution_count": 15,
          "metadata": {},
          "output_type": "execute_result"
        }
      ],
      "source": [
        "A = np.array([[1,2,], [3,4]])\n",
        "B = np.array([[5,6], [7,8]])\n",
        "np.dot(A,B)"
      ]
    },
    {
      "cell_type": "markdown",
      "metadata": {
        "id": "BP12bOarNN7W"
      },
      "source": [
        "7) Memory efficiency and manipulation:- NumPy supports memory- mapped files, which allow large arrays to be stored on disk and loaded into memory when needed, rather than loading the entire dataset at once. The feature is crucial when working with datasets too large to fit into RAM.\n",
        "\n",
        "Array Manipulation:-\n",
        "\n",
        "Functions like reshape(), transpose(), concatenate(), and rearranging of data into memory, without copying the underlying data, making it both fast and memory-efficient.\n",
        "\n",
        "\n",
        "NumPy enhances Python's numerical capabilities by providing highly efficient data structures , optimizing memory usage, offering vectorized and broadcasted operations, and supplying a comprehensive range of mathematical functions.\n",
        "\n",
        "#2) compare np.mean() and np.average() function in NumPy.When would you use one over the other?\n",
        "\n",
        "Solution:\n",
        "\n",
        "In NumPy, both np.mean() and np.average() are used to compute the average of an array, buth they differ in functionality. As:\n",
        "\n",
        "1) Basic Functionality:-\n",
        "\n",
        "* np.mean():\n",
        "\n",
        "* Computes the atithmatic mean (average) of the elements along a specified axis or the entire array.\n",
        "\n",
        "* It does not consinder any weights: all elements are treated equally.\n",
        "\n",
        "\n",
        "\n"
      ]
    },
    {
      "cell_type": "code",
      "execution_count": null,
      "metadata": {
        "colab": {
          "base_uri": "https://localhost:8080/"
        },
        "id": "p2ROyDmC-CYk",
        "outputId": "10dcd478-820e-4e5d-980f-98fbc5be78e5"
      },
      "outputs": [
        {
          "name": "stdout",
          "output_type": "stream",
          "text": [
            "3.0\n"
          ]
        }
      ],
      "source": [
        "import numpy as np\n",
        "arr = np.array([1,2,3,4,5])\n",
        "result = np.mean(arr)\n",
        "print(result)"
      ]
    },
    {
      "cell_type": "markdown",
      "metadata": {
        "id": "oLOMAK88-fu1"
      },
      "source": [
        "*np.average():\n",
        "\n",
        "* Computes the weighted average of an array. It can take an additional weight parameter that allows you to assign different weights to different elements.\n",
        "\n",
        "* If no weights are provided, np.average() behaves like np.mean(), giving an unweighted average.\n",
        "\n",
        "Example:"
      ]
    },
    {
      "cell_type": "code",
      "execution_count": null,
      "metadata": {
        "colab": {
          "base_uri": "https://localhost:8080/"
        },
        "id": "ajU6gL9H_LKE",
        "outputId": "d07287c9-a1af-41d9-c4f4-4e13fa1805cb"
      },
      "outputs": [
        {
          "name": "stdout",
          "output_type": "stream",
          "text": [
            "3.6666666666666665\n"
          ]
        }
      ],
      "source": [
        "arr = np.array([1,2,3,4,5])\n",
        "weights = np.array([1,2,3,4,5])\n",
        "result = np.average(arr, weights =weights)\n",
        "print(result)"
      ]
    },
    {
      "cell_type": "markdown",
      "metadata": {
        "id": "Gql6dqWsAems"
      },
      "source": [
        "2) Weights Parameter:-\n",
        "\n",
        "* np.mean():\n",
        "\n",
        "Does not support weights. It always computes the simple arithmatic mean.\n",
        "\n",
        "*np.average():\n",
        "\n",
        "Supports an optional weight parameter. If provided the functin calculates a weighted average, where each element contributes to the final average according to its corresponding weights.\n",
        "\n"
      ]
    },
    {
      "cell_type": "code",
      "execution_count": null,
      "metadata": {
        "colab": {
          "base_uri": "https://localhost:8080/"
        },
        "id": "BzDW32bUBV2I",
        "outputId": "d28465d5-f65f-4d67-ae42-aeb3eec46cbd"
      },
      "outputs": [
        {
          "name": "stdout",
          "output_type": "stream",
          "text": [
            "41.38095238095238\n"
          ]
        }
      ],
      "source": [
        "arr = np.array([22,98,65,54,12,30])\n",
        "weights = np.array([1,2,3,4,5,6])\n",
        "result = np.average(arr,weights=weights)\n",
        "print(result)"
      ]
    },
    {
      "cell_type": "markdown",
      "metadata": {
        "id": "nZVamDTsCRRa"
      },
      "source": [
        "3) Returned Result:\n",
        "\n",
        "* np.mean():\n",
        "\n",
        "returns a single value (the mean) or an array if computed along a specific axis.\n",
        "\n",
        "* np.average():\n",
        "\n",
        "Returns the weighted average as a single value or along an axis. Additionally, it can returned the sum of the weights when you set returned=True."
      ]
    },
    {
      "cell_type": "code",
      "execution_count": null,
      "metadata": {
        "colab": {
          "base_uri": "https://localhost:8080/"
        },
        "id": "2iZA_c_4DYzC",
        "outputId": "5e45def7-a315-4f25-8365-63a7ee0f2c10"
      },
      "outputs": [
        {
          "name": "stdout",
          "output_type": "stream",
          "text": [
            "41.38095238095238  21.0\n"
          ]
        }
      ],
      "source": [
        "avg, sum_weights = np.average(arr, weights=weights, returned=True)\n",
        "print(avg, sum_weights)"
      ]
    },
    {
      "cell_type": "markdown",
      "metadata": {
        "id": "PJmJgQHsE4P1"
      },
      "source": [
        "4) Performance:\n",
        "\n",
        "* np.mean():\n",
        "\n",
        "Simpler and potentially faster whe no weights are involved, as it only computes the sum of elements divided by the count.\n",
        "\n",
        "*np.average():\n",
        "\n",
        "Slightly more computationally intensive when using weights since it involve multiplying each element by its correponding weight and then normalizing by the sum of weights.\n",
        "\n",
        "Use cases:\n",
        "\n",
        "1) np.mean() Use case:\n",
        "\n",
        "Calculate the average temperature across a week where are days are equally important."
      ]
    },
    {
      "cell_type": "code",
      "execution_count": null,
      "metadata": {
        "colab": {
          "base_uri": "https://localhost:8080/"
        },
        "id": "BT3u3feTGxyt",
        "outputId": "bc4fc233-c0d8-490e-c817-8877a6daa446"
      },
      "outputs": [
        {
          "name": "stdout",
          "output_type": "stream",
          "text": [
            "23.125\n"
          ]
        }
      ],
      "source": [
        "temperatures = np.array([23,25,22,25,21,23,24,22])\n",
        "avg_temperature = np.mean(temperatures)\n",
        "print(avg_temperature)"
      ]
    },
    {
      "cell_type": "markdown",
      "metadata": {
        "id": "8hY0QMv4IVaL"
      },
      "source": [
        "2) np.average() Use Case:\n",
        "\n",
        "Calculating a student's weighted grade where different exams or assignments contribute differently to the final grade."
      ]
    },
    {
      "cell_type": "code",
      "execution_count": null,
      "metadata": {
        "colab": {
          "base_uri": "https://localhost:8080/"
        },
        "id": "sE_TPMnnHKa9",
        "outputId": "b4c2853f-063a-4096-cb51-ee40326d1df7"
      },
      "outputs": [
        {
          "name": "stdout",
          "output_type": "stream",
          "text": [
            "79.19047619047619\n"
          ]
        }
      ],
      "source": [
        "grades = np.array([85,76,90,65,88,76])\n",
        "weight = np.array([0.2,0.3,0.5,0.1,0.2,0.4])\n",
        "weighted_avg = np.average(grades, weights=weights)\n",
        "print(weighted_avg)"
      ]
    },
    {
      "cell_type": "markdown",
      "metadata": {
        "id": "sEs4W6A8NBQU"
      },
      "source": [
        "np.mean() is ideal for the cases where all data points are equally important, and you need a simple arithmatic mean whereas np.average() should be used when dealing with weighted data, where certain elements have more significance in the overall calculations."
      ]
    },
    {
      "cell_type": "markdown",
      "metadata": {
        "id": "ogOZGCl9NrLo"
      },
      "source": [
        "#3) Describe the methods for reversing Numpy array along different axes. Provide examples for 1D and 2D arrays\n",
        "\n",
        "Solution:\n",
        "\n",
        "Reersing a NumPy array along different axes can be achieved using slicing or the np.flip() function. Both methods allow you to reverse an array along a specified axes.\n",
        "\n",
        "1) Reversing a 1D Array:\n",
        "\n",
        "For a !D array, reversing simply means reversing the order of the elements.\n",
        "\n",
        "Method 1: Using Slicing;\n",
        "\n",
        "\n",
        "\n"
      ]
    },
    {
      "cell_type": "code",
      "execution_count": null,
      "metadata": {
        "colab": {
          "base_uri": "https://localhost:8080/"
        },
        "id": "7RgJdDqdSYvF",
        "outputId": "e55ff162-f0d3-4d6e-aa68-32df624a759b"
      },
      "outputs": [
        {
          "name": "stdout",
          "output_type": "stream",
          "text": [
            "[5 4 3 2 1]\n"
          ]
        }
      ],
      "source": [
        "arr_1d = np.array([1,2,3,4,5])\n",
        "reversed_1d = arr_1d[::-1]\n",
        "print(reversed_1d)"
      ]
    },
    {
      "cell_type": "markdown",
      "metadata": {
        "id": "3EYOyDKDS0Ia"
      },
      "source": [
        "Using np.flip(): For specific axis."
      ]
    },
    {
      "cell_type": "code",
      "execution_count": null,
      "metadata": {
        "colab": {
          "base_uri": "https://localhost:8080/"
        },
        "id": "sZX3PCnZTDJQ",
        "outputId": "b960458b-98fb-4002-9ccb-5d52a13a1290"
      },
      "outputs": [
        {
          "name": "stdout",
          "output_type": "stream",
          "text": [
            "[5 4 3 2 1]\n"
          ]
        }
      ],
      "source": [
        "reversed_1d_flip = np.flip(arr_1d)\n",
        "print(reversed_1d_flip)"
      ]
    },
    {
      "cell_type": "markdown",
      "metadata": {
        "id": "hwnvo-tBTYnX"
      },
      "source": [
        "2) Reversing a 2D Array:\n",
        "\n",
        "For a 2D array, you can reverse along different axes:\n",
        "\n",
        "Rows (axis= 0): This will reverse the oreder of the rows.\n",
        "\n",
        "\n",
        "Columns(axis= 1): This will reverse the order of the columns.\n",
        "\n",
        "Both axes: This will reverse the array both row-wise and column-wise.\n",
        "\n",
        "Method 1:Using slicing\n",
        "\n",
        "*Reverse Rows(axis=0):"
      ]
    },
    {
      "cell_type": "code",
      "execution_count": null,
      "metadata": {
        "colab": {
          "base_uri": "https://localhost:8080/"
        },
        "id": "WDmtRXshURcc",
        "outputId": "17a67a3c-6398-4c97-ebfd-4cdc00265e42"
      },
      "outputs": [
        {
          "data": {
            "text/plain": [
              "array([[7, 8, 9],\n",
              "       [4, 5, 6],\n",
              "       [1, 2, 3]])"
            ]
          },
          "execution_count": 31,
          "metadata": {},
          "output_type": "execute_result"
        }
      ],
      "source": [
        "arr_2d = np.array([[1,2,3],\n",
        "                  [4,5,6],\n",
        "                  [7,8,9]])\n",
        "reversed_2d_rows = arr_2d[::-1,:]\n",
        "reversed_2d_rows"
      ]
    },
    {
      "cell_type": "markdown",
      "metadata": {
        "id": "f2N8vDtoVC9M"
      },
      "source": [
        "* Reverse Columns (axis=1):\n"
      ]
    },
    {
      "cell_type": "code",
      "execution_count": null,
      "metadata": {
        "colab": {
          "base_uri": "https://localhost:8080/"
        },
        "id": "U8-EjhcUWIGH",
        "outputId": "842c84bf-f88b-4d6e-b655-0a54523e3f43"
      },
      "outputs": [
        {
          "data": {
            "text/plain": [
              "array([[3, 2, 1],\n",
              "       [6, 5, 4],\n",
              "       [9, 8, 7]])"
            ]
          },
          "execution_count": 32,
          "metadata": {},
          "output_type": "execute_result"
        }
      ],
      "source": [
        "reversed_columns = arr_2d[:,::-1]\n",
        "reversed_columns"
      ]
    },
    {
      "cell_type": "markdown",
      "metadata": {
        "id": "H7Y7WWg2WwEt"
      },
      "source": [
        "* Reverse both axes( rows and columns):"
      ]
    },
    {
      "cell_type": "code",
      "execution_count": null,
      "metadata": {
        "colab": {
          "base_uri": "https://localhost:8080/"
        },
        "id": "lJZljQ3KW84v",
        "outputId": "6338226d-5517-43a8-e98e-4a8fcaa0a263"
      },
      "outputs": [
        {
          "data": {
            "text/plain": [
              "array([[9, 8, 7],\n",
              "       [6, 5, 4],\n",
              "       [3, 2, 1]])"
            ]
          },
          "execution_count": 33,
          "metadata": {},
          "output_type": "execute_result"
        }
      ],
      "source": [
        "reversed_both = arr_2d[::-1, ::-1]\n",
        "reversed_both"
      ]
    },
    {
      "cell_type": "markdown",
      "metadata": {
        "id": "n0pxO8lhXUZ6"
      },
      "source": [
        "Method 2:Using np.flip()\n",
        "\n",
        "* Reverse Rows:"
      ]
    },
    {
      "cell_type": "code",
      "execution_count": null,
      "metadata": {
        "colab": {
          "base_uri": "https://localhost:8080/"
        },
        "id": "MFSm8iQYXyzs",
        "outputId": "09348428-0f45-4214-8974-d0d76e95cfc8"
      },
      "outputs": [
        {
          "data": {
            "text/plain": [
              "array([[7, 8, 9],\n",
              "       [4, 5, 6],\n",
              "       [1, 2, 3]])"
            ]
          },
          "execution_count": 35,
          "metadata": {},
          "output_type": "execute_result"
        }
      ],
      "source": [
        "reversed_rows_flip = np.flip(arr_2d, axis=0)\n",
        "reversed_rows_flip"
      ]
    },
    {
      "cell_type": "markdown",
      "metadata": {
        "id": "YnzmZuQHYkQv"
      },
      "source": [
        "* Reverse Columns(axis=1):"
      ]
    },
    {
      "cell_type": "code",
      "execution_count": null,
      "metadata": {
        "colab": {
          "base_uri": "https://localhost:8080/"
        },
        "id": "nVvp2DiEX_tA",
        "outputId": "45d3d7bb-550b-4eaa-d845-c7f0ceaf4fcb"
      },
      "outputs": [
        {
          "data": {
            "text/plain": [
              "array([[3, 2, 1],\n",
              "       [6, 5, 4],\n",
              "       [9, 8, 7]])"
            ]
          },
          "execution_count": 36,
          "metadata": {},
          "output_type": "execute_result"
        }
      ],
      "source": [
        "reversed_column_flip = np.flip(arr_2d, axis=1)\n",
        "reversed_column_flip"
      ]
    },
    {
      "cell_type": "markdown",
      "metadata": {
        "id": "xbRrQGN7Y0yX"
      },
      "source": [
        "* Reverse both axes:"
      ]
    },
    {
      "cell_type": "code",
      "execution_count": null,
      "metadata": {
        "colab": {
          "base_uri": "https://localhost:8080/"
        },
        "id": "_lXqAExfYUvf",
        "outputId": "28189d04-6ddc-4001-a9f2-531100ef310e"
      },
      "outputs": [
        {
          "data": {
            "text/plain": [
              "array([[9, 8, 7],\n",
              "       [6, 5, 4],\n",
              "       [3, 2, 1]])"
            ]
          },
          "execution_count": 39,
          "metadata": {},
          "output_type": "execute_result"
        }
      ],
      "source": [
        "reversed_flip_both = np.flip(arr_2d, axis=(0,1))\n",
        "reversed_flip_both"
      ]
    },
    {
      "cell_type": "markdown",
      "metadata": {
        "id": "4YKbNBqRZKn3"
      },
      "source": [
        "#4) How can you determine the datatypes of elements in a NumPy array? Discuss the importance of data types in memory management and performance?\n",
        "\n",
        "Solution:\n",
        "\n",
        "In NumPy, the datatype of the elements in an array is represented by the dtype attribute. This can be used to check the type of data stored in the array. NumPy supports ab wide range of datatypes such as int32,float64,bool, etc.\n",
        "\n",
        "Example of determining Datatypes:\n"
      ]
    },
    {
      "cell_type": "code",
      "execution_count": null,
      "metadata": {
        "colab": {
          "base_uri": "https://localhost:8080/"
        },
        "id": "1zQ1DSalc2jx",
        "outputId": "40db24b8-34ce-45ec-ece7-8689f710a38b"
      },
      "outputs": [
        {
          "data": {
            "text/plain": [
              "dtype('int64')"
            ]
          },
          "execution_count": 41,
          "metadata": {},
          "output_type": "execute_result"
        }
      ],
      "source": [
        "arr = np.array([1,2,3,4,5]) # Create an array of integers\n",
        "arr.dtype                   # Check the datatype of the array of elements"
      ]
    },
    {
      "cell_type": "code",
      "execution_count": null,
      "metadata": {
        "colab": {
          "base_uri": "https://localhost:8080/"
        },
        "id": "l0YHlv3idQi_",
        "outputId": "d952c2cc-7665-4eb7-9cc8-cca60ba4eb63"
      },
      "outputs": [
        {
          "data": {
            "text/plain": [
              "dtype('float64')"
            ]
          },
          "execution_count": 44,
          "metadata": {},
          "output_type": "execute_result"
        }
      ],
      "source": [
        "arr1 = np.array([2.3,2.4,5.6,8.5])\n",
        "arr1.dtype"
      ]
    },
    {
      "cell_type": "code",
      "execution_count": null,
      "metadata": {
        "colab": {
          "base_uri": "https://localhost:8080/"
        },
        "id": "6fjY8kZbeCqX",
        "outputId": "47b520dc-8534-4a30-89e4-528fcb35d7e3"
      },
      "outputs": [
        {
          "data": {
            "text/plain": [
              "dtype('<U4')"
            ]
          },
          "execution_count": 45,
          "metadata": {},
          "output_type": "execute_result"
        }
      ],
      "source": [
        "arr2 = np.array([\"ram\", \"sham\", \"noah\"])\n",
        "arr2.dtype"
      ]
    },
    {
      "cell_type": "code",
      "execution_count": null,
      "metadata": {
        "colab": {
          "base_uri": "https://localhost:8080/"
        },
        "id": "jkhP4S8UeUXS",
        "outputId": "c483ecec-9e35-468d-d2a8-a3dee8e99f22"
      },
      "outputs": [
        {
          "data": {
            "text/plain": [
              "dtype('bool')"
            ]
          },
          "execution_count": 46,
          "metadata": {},
          "output_type": "execute_result"
        }
      ],
      "source": [
        "arr3 = np.array([True, False])\n",
        "arr3.dtype"
      ]
    },
    {
      "cell_type": "markdown",
      "metadata": {
        "id": "LuTgphlWfPqA"
      },
      "source": [
        "Importance of Datatypes in memry management and performance:-\n",
        "\n",
        "MEMORY MANAGEMENT:-\n",
        "\n",
        "* Memory Efficiency:\n",
        "\n",
        "Different datatypes require different amount of memory. For example on int8 type requires 1 byte per element, while on int 64 requires 8 bytes per element. Choosing a smaller datatype (e.g., int8 or float32 over int64 or float64) can save a significant amount of memory when working with large arrays.\n",
        "\n",
        "Example:"
      ]
    },
    {
      "cell_type": "code",
      "execution_count": null,
      "metadata": {
        "colab": {
          "base_uri": "https://localhost:8080/"
        },
        "id": "mTbKnTdMhF_S",
        "outputId": "69e143b6-e97c-450b-8c8d-69c3b00e383d"
      },
      "outputs": [
        {
          "data": {
            "text/plain": [
              "5"
            ]
          },
          "execution_count": 49,
          "metadata": {},
          "output_type": "execute_result"
        }
      ],
      "source": [
        "arr_int8 = np.array([1,2,3,4,5], dtype = 'int8')\n",
        "arr_int64 = np.array([1,2,3,4,5], dtype = 'int64')\n",
        "\n",
        "arr_int8.nbytes"
      ]
    },
    {
      "cell_type": "code",
      "execution_count": null,
      "metadata": {
        "colab": {
          "base_uri": "https://localhost:8080/"
        },
        "id": "udLtkdetivme",
        "outputId": "9688198e-55b9-44a6-d360-8d413bc7c41a"
      },
      "outputs": [
        {
          "data": {
            "text/plain": [
              "40"
            ]
          },
          "execution_count": 50,
          "metadata": {},
          "output_type": "execute_result"
        }
      ],
      "source": [
        "arr_int64.nbytes"
      ]
    },
    {
      "cell_type": "markdown",
      "metadata": {
        "id": "h8JYWet8D07b"
      },
      "source": [
        "* Large Databases:- When working with large databases, using the apprpriate datatypecan reduce memory usage substantially and allow you to process larger databases on machines with limited memory resources.\n",
        "\n",
        "2) PERFORMANCE\n",
        "\n",
        "* Computation speed:\n",
        "\n",
        "Smaller datatypes typically lead to faster computation since less memory is processed and accessed.. For example, operations on float32 arrays are usually faster than float64 arrays, particularly when dealing with large databases.\n",
        "\n",
        "Example:"
      ]
    },
    {
      "cell_type": "code",
      "execution_count": null,
      "metadata": {
        "id": "YTUqTVFAFG3d"
      },
      "outputs": [],
      "source": [
        "arr1 = np.random.rand(100000000).astype('float32') # 32- bit floating point\n",
        "arr2 = np.random.rand(100000000).astype('float64') # 64- bit floating point"
      ]
    },
    {
      "cell_type": "markdown",
      "metadata": {
        "id": "tv6c5RnIGT3r"
      },
      "source": [
        "* Memory Caching:\n",
        "\n",
        "Smaller datatypes allow for more efficient use of the CPU's cache, which can improve the  speed of repeated cmputations. Larger datatypes may exceed the size of the CPU's cache, leading to more frequent memory access which is slower.\n",
        "\n",
        "* Accuracy and Precision:\n",
        "\n",
        "Smaller datatypes may results in loss of precision. For example, float32 may provides less precision than float64. In applications requires higher numerical precision(e.g. scintific simulations or financial calculations), using float64 or float128 is more appropriate to avoid rounding errors.\n",
        "\n",
        "Example:"
      ]
    },
    {
      "cell_type": "code",
      "execution_count": null,
      "metadata": {
        "colab": {
          "base_uri": "https://localhost:8080/"
        },
        "id": "23Zgbga3IlgI",
        "outputId": "892a6242-32a6-4473-8a34-994fd3a962b7"
      },
      "outputs": [
        {
          "name": "stdout",
          "output_type": "stream",
          "text": [
            "0.6\n",
            "0.6000000000000001\n"
          ]
        }
      ],
      "source": [
        "arr_float32 = np.array([0.1,0.2,0.3], dtype = 'float32')\n",
        "arr_float64 = np.array([0.1,0.2,0.3], dtype = 'float64')\n",
        "print(arr_float32.sum())\n",
        "print(arr_float64.sum())"
      ]
    },
    {
      "cell_type": "markdown",
      "metadata": {
        "id": "MVjpNEvCJmKV"
      },
      "source": [
        "Choosing the right datatype depends upon trade-offs between memory, speed and precisin requirements for your specific application.\n",
        "\n",
        "#5) Define ndarrays in NumPy and explain their key features. How do they differ from standard Python lists?\n",
        "\n",
        "Solution:\n",
        "\n",
        "An ndarray (n-dimensional array) is the core data structture provided by the NumPy library in Python. It represents a homogenous, multidimensinal array of fixed-sized items. This means that every element in the array can have multiple dimensions(e.g.,1D,2D,3D etc.).\n",
        "\n",
        "Key Features of ndarrays:-\n",
        "\n",
        "1) Homogenous Data Types:\n",
        "\n",
        "All elements in a NumPy ndarray must have the same datatype. This uniforms allows for efficient memory use and fast operatins, as there is n need for type checking during computations.\n",
        "\n",
        "Example:\n",
        "\n"
      ]
    },
    {
      "cell_type": "code",
      "execution_count": null,
      "metadata": {
        "id": "AxOAB19ANahy"
      },
      "outputs": [],
      "source": [
        "arr = np.array([1,2,3,4,5], dtype = np.int32) # All elements are integers"
      ]
    },
    {
      "cell_type": "markdown",
      "metadata": {
        "id": "3X_hRkZXOAwM"
      },
      "source": [
        "2) Multidimensional:\n",
        "\n",
        "* ndarray can represent arrays of any dimension, from 1D vectors to multidimensional matrices and beyond.\n",
        "\n",
        "* The number of dimensions (for axes)is known as the rank of the array, and the size along each dimension is called its shape."
      ]
    },
    {
      "cell_type": "code",
      "execution_count": null,
      "metadata": {
        "id": "__o0EIAPPKR3"
      },
      "outputs": [],
      "source": [
        "arr_1 = np.array([1,2,3,4,5]) # 1D array\n",
        "arr_2d = np.array([[1,2],\n",
        "                   [3,4]])\n",
        "arr_3d = np.array([[[1,2,3],\n",
        "                    [4,5,6],\n",
        "                    [7,8,9]]])"
      ]
    },
    {
      "cell_type": "markdown",
      "metadata": {
        "id": "JuairtDtQZXx"
      },
      "source": [
        "3) Efficient memory usage:- ndarrays are stored as the contiguous block of memory unlikePython lists, which are arrays of pointers. This efficient memory layout allows fast element access and avoids overhead from pointer dereferencing.\n",
        "\n",
        "4) Vectorized Operations:\n",
        "\n",
        "NumPy ndarrays support vectorized operations, which mean that operations can be applied to entire arrays at once without the need fr loops. This leads to cleaner, more readable code and faster execution."
      ]
    },
    {
      "cell_type": "code",
      "execution_count": null,
      "metadata": {
        "colab": {
          "base_uri": "https://localhost:8080/"
        },
        "id": "xcEIp5kPRyZI",
        "outputId": "209f67cf-57b6-46ec-e3bf-a7bd0ae1d6a7"
      },
      "outputs": [
        {
          "output_type": "execute_result",
          "data": {
            "text/plain": [
              "array([1, 4, 9])"
            ]
          },
          "metadata": {},
          "execution_count": 5
        }
      ],
      "source": [
        "arr = np.array([1,2,3])\n",
        "arr_squared = arr**2\n",
        "arr_squared"
      ]
    },
    {
      "cell_type": "markdown",
      "metadata": {
        "id": "GIKIHx8jSKmz"
      },
      "source": [
        "5)Shape Manipulation:\n",
        "\n",
        "ndarray allow flexible reshaping without changing the data. You can change the number of dimensions or rearrange elements as needed using .reshape() method or transpose().\n",
        "\n",
        "Example:"
      ]
    },
    {
      "cell_type": "code",
      "source": [
        "arr = np.array([1,2,3,4,5,6])\n",
        "arr_reshape = arr.reshape(2,3) # Reshape into a 2*3 array\n",
        "arr_reshape"
      ],
      "metadata": {
        "colab": {
          "base_uri": "https://localhost:8080/"
        },
        "id": "_HssMNucWH3Y",
        "outputId": "5cb85625-2f7b-406d-a618-0a05409ab413"
      },
      "execution_count": null,
      "outputs": [
        {
          "output_type": "execute_result",
          "data": {
            "text/plain": [
              "array([[1, 2, 3],\n",
              "       [4, 5, 6]])"
            ]
          },
          "metadata": {},
          "execution_count": 14
        }
      ]
    },
    {
      "cell_type": "markdown",
      "source": [
        "7) Slicing and Indexing:\n",
        "\n",
        "You can access and manipulate specific elements or subarrays using slicing, similar to lists but more powerful for multi-dimensional arrays.\n",
        "\n",
        "Example:"
      ],
      "metadata": {
        "id": "qNkA-jtqWt3l"
      }
    },
    {
      "cell_type": "code",
      "source": [
        "arr = np.array([[1,2,3], [4,5,6]])\n",
        "arr[0,1]"
      ],
      "metadata": {
        "colab": {
          "base_uri": "https://localhost:8080/"
        },
        "id": "AuYikICSXjuz",
        "outputId": "3cb9a0b9-3c58-4cd9-b33e-c25eed5966bb"
      },
      "execution_count": null,
      "outputs": [
        {
          "output_type": "execute_result",
          "data": {
            "text/plain": [
              "2"
            ]
          },
          "metadata": {},
          "execution_count": 4
        }
      ]
    },
    {
      "cell_type": "markdown",
      "source": [
        "Differences between ndarrays from standard Python lists:\n",
        "\n",
        "1) Homogeneity:\n",
        "\n",
        "* ndarrays: All the elements must be of same datatype (e.g., all int32, all float64).\n",
        "\n",
        "* Lists: Lists can store elements of different types(e.g., integers,floats, strings,etc.).\n",
        "\n",
        "2) Memory Efficiency:\n",
        "\n",
        "* ndarrays: Stored in a contiguous block of memory with fixed datatype, which allows efficient memory use and fast access to elements.\n",
        "\n",
        "* Lists: Internally, lists are arrays of pointers to objects, resulting in higher memory overhead due to the storage of object references.\n",
        "\n",
        "3) Performance:\n",
        "\n",
        "* ndarrays: Optimized for numerical operations, especially large datasets, by performing vectorized operations that leverage compiled codde.\n",
        "\n",
        "* Lists: Iterating through lists for element-wise operations is slower due to the dynamic typing and need for explicit loops.\n",
        "\n",
        "4) Dimensionality:\n",
        "\n",
        "ndarrays: Supports multi-dimensinal arrays (1D, 2D, 3D, etc.) natively and efficiently.\n",
        "\n",
        "Lists: Only support 1D lists naturally, and you need nested lists to represent higher dimensions, which is less efficient and harder to manipulate.\n",
        "\n",
        "5) Broadcasting:\n",
        "\n",
        "ndarrays: support broadcasting, which allows operations on arrays of different shapes without manual resizing.\n",
        "\n",
        "Lists: Do not supports broadcasting. You would need to manually loop or adjust dimensions.\n",
        "\n",
        "6) Advanced Indexing and Slicing:\n",
        "\n",
        "* ndarrays: Provide powerful slicing and indexing mechanisms for multi-dimensinal arrays.\n",
        "\n",
        "* Lists: Only supports basic slicing for 1D lists and less intuitive methods for nested lists.\n",
        "\n",
        "ndarray are optimized for performance, memory efficiency, and handling large-scale numerical computations, making them a better choice standard Python lists for scientific and data analysis tasks."
      ],
      "metadata": {
        "id": "gzfEaAOSYhIn"
      }
    },
    {
      "cell_type": "markdown",
      "source": [
        "# 6) Analyze the performance benefits of NumPy arrays over Python list for large scale numerical operations.\n",
        "\n",
        "Solution:\n",
        "\n",
        "NumPy arrays offer significant performance benefits over Python lists when performing large scale numerical operations. Key aspects of how Python lists in large-scale operations are:\n",
        "\n",
        "1) Memory efficiency layout:\n",
        "\n",
        "NumPy arrays store data in a contiguous block of memory. All the elements are of the same datatypes, which makes memory managementmore efficient. Python lists, on the other hand arrays of pointers to objects, which means that each element is a seprate object with its own memory allocation. This leads to overhead in terms of both memory and time when accessing elements.\n",
        "\n",
        "Example;\n",
        "\n"
      ],
      "metadata": {
        "id": "3TTUQW4WiZht"
      }
    },
    {
      "cell_type": "code",
      "source": [
        "arr = np.array([1,2,3,4,5]) # 4 integers stored contiguously in memory\n",
        "Python_list = [1,2,3,4,5] # 4 integers stored as separate objects"
      ],
      "metadata": {
        "id": "_pfRlaYio4ou"
      },
      "execution_count": null,
      "outputs": []
    },
    {
      "cell_type": "markdown",
      "source": [
        "For large datasets, the contiguous memory structure of NumPy arrays reduces the memory footprint, allowing efficient storage and processing of large-scale data.\n",
        "\n",
        "2) Faster Element-wise operations:-\n",
        "* Vectorized Operations:- NumPy supports vectorized opearations, where mathematical function are applied to entire arrays at once, rather than element by element. /this avoids the need for explicit loops and leverages low-level optimization that make computation much faster.\n",
        "\n",
        "Example:"
      ],
      "metadata": {
        "id": "RFj-ik_rpaAQ"
      }
    },
    {
      "cell_type": "code",
      "source": [
        "arr= np.array([1,2,3,4,5])\n",
        "result = arr**2\n",
        "result"
      ],
      "metadata": {
        "colab": {
          "base_uri": "https://localhost:8080/"
        },
        "id": "bpkoCzINsXlr",
        "outputId": "3f38dcbb-dd70-4a11-e9cf-65c3b4c915e4"
      },
      "execution_count": null,
      "outputs": [
        {
          "output_type": "execute_result",
          "data": {
            "text/plain": [
              "array([ 1,  4,  9, 16, 25])"
            ]
          },
          "metadata": {},
          "execution_count": 21
        }
      ]
    },
    {
      "cell_type": "markdown",
      "source": [
        "In Python lists, you would need to use a loop or list comprehension to acheive the same result:"
      ],
      "metadata": {
        "id": "xQriFjgCtFpn"
      }
    },
    {
      "cell_type": "code",
      "source": [
        "python_list = [1,2,3,4,5]\n",
        "result_list = [x +10 for x in python_list]\n",
        "result_list()  # slower due to explicit loop"
      ],
      "metadata": {
        "id": "AMJx2f8BtlcR"
      },
      "execution_count": null,
      "outputs": []
    },
    {
      "cell_type": "markdown",
      "source": [
        "* Performance Test for Large Arrays:"
      ],
      "metadata": {
        "id": "T1uXIwRiuRmb"
      }
    },
    {
      "cell_type": "code",
      "source": [
        "import time\n",
        "size = 1000000\n",
        "arr = np.arange(size)\n",
        "\n",
        "start = time.time()\n",
        "arr_result = arr + 1\n",
        "end = time.time()\n",
        "print(f\"NumPy time: {end - start} seconds\")"
      ],
      "metadata": {
        "colab": {
          "base_uri": "https://localhost:8080/"
        },
        "id": "eZWhykUXCEKR",
        "outputId": "be8d628c-cd46-429f-f21e-467678cc5b1f"
      },
      "execution_count": null,
      "outputs": [
        {
          "output_type": "stream",
          "name": "stdout",
          "text": [
            "NumPy time: 0.00841069221496582 seconds\n"
          ]
        }
      ]
    },
    {
      "cell_type": "code",
      "source": [
        "size = 1000000\n",
        "python_list = list(range(size))\n",
        "\n",
        "start = time.time()\n",
        "list_result = [x+1 for x in python_list]\n",
        "end = time.time()\n",
        "print(f\"Python list time: {end - start} seconds\")"
      ],
      "metadata": {
        "colab": {
          "base_uri": "https://localhost:8080/"
        },
        "id": "uWGu2cLyDWRj",
        "outputId": "53e53579-319f-4983-85f8-49ea7b8140da"
      },
      "execution_count": null,
      "outputs": [
        {
          "output_type": "stream",
          "name": "stdout",
          "text": [
            "Python list time: 0.14842653274536133 seconds\n"
          ]
        }
      ]
    },
    {
      "cell_type": "markdown",
      "source": [
        "The NumPy opearation is much faster because it uses vectorization, whereas Python lists require explicit iteration.\n",
        "\n",
        "3) Lower Computational Overhead:\n",
        "\n",
        "* NumPy avoids the overhead of Python's dynamic typing, which is significant when handling large-scale data.\n",
        "\n",
        "* Efficient Loops: NumPy uses highly optimized internal loops for operations, whereas Python lists rely on slower, interpted loops. This make NumPy a preferred choice for tasks like linear algebra, statistics and signal processing, which involve repititive operations on large datasets.\n",
        "\n",
        "4) Broadcasting Capabilities:\n",
        "\n",
        "NumPy allows arrays of different shapes to be used in arthimatic operations through a mechanism called as broadcasting. This avoid the need to manually reshape or expand arrays to match in size, saving both memory and computation time.\n",
        "\n",
        "Example:"
      ],
      "metadata": {
        "id": "guphvf9NE0Ie"
      }
    },
    {
      "cell_type": "code",
      "source": [
        "arr = np.array([[1,2,3],[4,5,6]])\n",
        "scaler = 10\n",
        "result = arr+10\n",
        "result"
      ],
      "metadata": {
        "colab": {
          "base_uri": "https://localhost:8080/"
        },
        "id": "z9Mokg86HkSo",
        "outputId": "06ec6ab9-23ed-4dee-9de6-f68f72d0d219"
      },
      "execution_count": null,
      "outputs": [
        {
          "output_type": "execute_result",
          "data": {
            "text/plain": [
              "array([[11, 12, 13],\n",
              "       [14, 15, 16]])"
            ]
          },
          "metadata": {},
          "execution_count": 6
        }
      ]
    },
    {
      "cell_type": "markdown",
      "source": [
        "5) Advanced Indexing and Slicing:\n",
        "\n",
        "* Advanced Indexing: NumPy provides advanced and efficient slicing and indexing mechanism that allow selecting specific rows, columns or subarrays from a multi-dimensional array. Python lists require nested loops or list comprehensions, which are slower and more cumbersome.\n",
        "\n",
        "Example:"
      ],
      "metadata": {
        "id": "L1aNqS3rIZZH"
      }
    },
    {
      "cell_type": "code",
      "source": [
        "arr = np.array([[1,2,3],[4,5,6],[7,8,9]])\n",
        "sub_array = arr[:2, :2]\n",
        "sub_array"
      ],
      "metadata": {
        "colab": {
          "base_uri": "https://localhost:8080/"
        },
        "id": "i2Xz-GJWJs2j",
        "outputId": "88397f19-60f7-4e0f-c309-57e8766154cd"
      },
      "execution_count": null,
      "outputs": [
        {
          "output_type": "execute_result",
          "data": {
            "text/plain": [
              "array([[1, 2],\n",
              "       [4, 5]])"
            ]
          },
          "metadata": {},
          "execution_count": 7
        }
      ]
    },
    {
      "cell_type": "markdown",
      "source": [
        "In Python lists, achieving the same result would require more complex code, and performance would degrade with larger datasets.\n",
        "\n",
        "6) Numerical Precision and Datatypes:\n",
        "\n",
        "* Control over datatypes: NumPy allows users to specify the datatype of array elements. This allows better control memory usage and precision. In contrast, Python lists have no built-in mechanism to specify the type of elements, leading to inconsistent memory use and less efficient computations for large scale data.\n",
        "\n",
        "For operations where precision matters (e.g., scientific computation), having the ability to specify datatypes is crucial for maintaining accuracy while optimizing memory use.\n",
        "\n",
        "# 7) Compare vstack() and hstack() functions in NumPy. Provide example demonstrating their usage and output.\n",
        "\n",
        "Solution:\n",
        "\n",
        "In NumPy, vstack() and hstack() are used to stack arrays vertically and horizontally, respectively. They are useful when you neeed to combine multiple arrays into a single on along a specific axis. Here's a detailed comparision is:\n",
        "\n",
        "1) numpy.vstack() (Vertical Stack):\n",
        "\n",
        "* Purpose: vstack() stacks arrays vertically along the first axis( row-wise). It combines arrays by adding them as new rows on top of one another.\n",
        "\n",
        "* Behaviour: It requires the arrays to have the same number of columns(same width) but can differ in the number of rows.\n",
        "\n",
        "* Syntax:\n",
        "\n"
      ],
      "metadata": {
        "id": "G3uVpfQIKNXS"
      }
    },
    {
      "cell_type": "code",
      "source": [
        "numpy.vstack(tup)"
      ],
      "metadata": {
        "id": "-8A0usV4PIrq"
      },
      "execution_count": null,
      "outputs": []
    },
    {
      "cell_type": "markdown",
      "source": [
        "* Parameter: tup- A sequence of arrays to be stacked vertically. The arrays should have the same number of columns.\n",
        "\n",
        "Example:"
      ],
      "metadata": {
        "id": "mObt7SGIPOba"
      }
    },
    {
      "cell_type": "code",
      "source": [
        "array1 = np.array([[1,2,3],[4,5,6]])\n",
        "array2 = np.array([[7,8,9]])\n",
        "result = np.vstack((array1, array2))\n",
        "result"
      ],
      "metadata": {
        "colab": {
          "base_uri": "https://localhost:8080/"
        },
        "id": "PvWECbufQ4-v",
        "outputId": "be0bdef0-7912-4211-a246-8c38a241b240"
      },
      "execution_count": null,
      "outputs": [
        {
          "output_type": "execute_result",
          "data": {
            "text/plain": [
              "array([[1, 2, 3],\n",
              "       [4, 5, 6],\n",
              "       [7, 8, 9]])"
            ]
          },
          "metadata": {},
          "execution_count": 8
        }
      ]
    },
    {
      "cell_type": "markdown",
      "source": [
        "vstack() takes the two arrays and adds array2 as a new row beneath array1. The number of columns must match for this operation to succeed.\n",
        "\n",
        "2) numpy.hstack() (Horizontal Stack):\n",
        "\n",
        "* Purpose: hstack stacks arrays horizontally along the second axis(column- axis). It combines arrays by adding them as new columns side by side.\n",
        "\n",
        "Behaviour: It requires the arrays to have the same number of rows (same height) but can differ in the number of columns.\n",
        "\n",
        "Syntax:"
      ],
      "metadata": {
        "id": "y87FzYo1R19o"
      }
    },
    {
      "cell_type": "code",
      "source": [
        "numpy.hstack(tup)"
      ],
      "metadata": {
        "id": "zUvZ3_tTTWXw"
      },
      "execution_count": null,
      "outputs": []
    },
    {
      "cell_type": "markdown",
      "source": [
        "* Parameter: tup- A sequence of arrays to be stacked horizontally. The arrays should have the same number of rows.\n",
        "\n",
        "Example:"
      ],
      "metadata": {
        "id": "VXT0SADNTdVJ"
      }
    },
    {
      "cell_type": "code",
      "source": [
        "array1 = np.array([[1,2,3],[4,5,6]])\n",
        "array2 = np.array([[7,8],[9,10]])\n",
        "result = np.hstack((array1, array2))\n",
        "result"
      ],
      "metadata": {
        "colab": {
          "base_uri": "https://localhost:8080/"
        },
        "id": "om1ZcnVJT4LD",
        "outputId": "c0da55db-7312-4883-8064-37db6b1a3a43"
      },
      "execution_count": null,
      "outputs": [
        {
          "output_type": "execute_result",
          "data": {
            "text/plain": [
              "array([[ 1,  2,  3,  7,  8],\n",
              "       [ 4,  5,  6,  9, 10]])"
            ]
          },
          "metadata": {},
          "execution_count": 9
        }
      ]
    },
    {
      "cell_type": "markdown",
      "source": [
        "hstack() combines array1 and array2 by adding the columns of array2 to the right of array1. The number of rows must match for this operation to succeed.\n",
        "\n",
        "* Comparision Between vstack() and hstack():\n",
        "\n",
        "1) Stacking direction:\n",
        "\n",
        "* vstack() stacks arrays vertically (row-wise), adding new rows.\n",
        "\n",
        "* hstack() stacks arrays horizontally(column_wise), adding new columns.\n",
        "\n",
        "2) Shape Requirements:\n",
        "\n",
        "* vstack() requires that the arrays have same number of columns but can have different numbers of rows.\n",
        "\n",
        "* hstack() requires that the arrays have the same number of rows but can have differentnumbers of columns.\n",
        "\n",
        "3) Typical Use cases:\n",
        "\n",
        "* vstack(): When you have multiple sets of data with the same number of features(columns) and want to combine them into one dataset by adding rows.\n",
        "\n",
        "* hstack(): When you want to argument existing data with additional features (columns) for each row of data.\n",
        "\n",
        "Both functions are convenient and efficient for concatenating arrays in differet orientations, saving from manually handling array shapes and concatenation logic."
      ],
      "metadata": {
        "id": "SzK9uZ93UjPY"
      }
    },
    {
      "cell_type": "markdown",
      "source": [
        "#8) Explain the difference between fliplr() and flipud() methods in NumPy, including their effect on various array dimensions.\n",
        "\n",
        "Solution:\n",
        "\n",
        "In NumPy, fliplr() and flipud() are two distinst methods used to reverse the elements of an array, but they act on different axes. Heres a detailes explaination of the differences:\n",
        "\n",
        "1) numpy.fliplr() (Flip Left-Right):\n",
        "\n",
        "* Description: The fliplr() function reverse the order of elements along the columns of 2D array. In other words, it flips the array horizontally, swapping the columns from left to right.\n",
        "\n",
        "* Applicable to: It only works for arrays with at least two dimensions (2D arrays and higher).\n",
        "\n",
        "* Axis: It operates along the last axis (axis =1) i.e., the horizontal axis of a 2D array.\n",
        "\n",
        "* Effect on array:\n",
        "\n",
        "* The first column becomes the last column.\n",
        "\n",
        "* The second column becomes the second-to-last column, and so on.\n",
        "\n",
        "Example:"
      ],
      "metadata": {
        "id": "Aa-YaFH-Z52C"
      }
    },
    {
      "cell_type": "code",
      "source": [
        "arr = np.array([[1,2,3],\n",
        "                [4,5,6],\n",
        "                [7,8,9]])\n",
        "flipped_lr = np.fliplr(arr)\n",
        "flipped_lr"
      ],
      "metadata": {
        "colab": {
          "base_uri": "https://localhost:8080/"
        },
        "id": "0RfDWv80K_0y",
        "outputId": "5902609f-fa6d-46fc-b7a0-44c2befaf017"
      },
      "execution_count": null,
      "outputs": [
        {
          "output_type": "execute_result",
          "data": {
            "text/plain": [
              "array([[3, 2, 1],\n",
              "       [6, 5, 4],\n",
              "       [9, 8, 7]])"
            ]
          },
          "metadata": {},
          "execution_count": 6
        }
      ]
    },
    {
      "cell_type": "markdown",
      "source": [
        "2) numpy.flipud() (Flip Up-Down):\n",
        "\n",
        "* Description: The flipud() function reverses the order of elements along the rows of a 2D array. In other words, it flips the array vertically, swapping the rows from top to bottom.\n",
        "\n",
        "* Applicable to: It also works for arrays with at least 2 dimensions (2D arrays and higher).\n",
        "\n",
        "* Axis: It opeartes along the first axis (axis=0) i.e., the vertical axis of a 2D array.\n",
        "\n",
        "Effect on Array:\n",
        "\n",
        "* The first row becomes the last row.\n",
        "\n",
        "* The second row becomes the second-to-last row, and so on.\n",
        "\n",
        "Example:"
      ],
      "metadata": {
        "id": "BVCakHf9L4aO"
      }
    },
    {
      "cell_type": "code",
      "source": [
        "arr = np.array([[1,2,3],\n",
        "                [4,5,6],\n",
        "                [7,8,9]])\n",
        "flipped_ud = np.flipud(arr)\n",
        "flipped_ud"
      ],
      "metadata": {
        "colab": {
          "base_uri": "https://localhost:8080/"
        },
        "outputId": "07b618f6-eccd-4cb3-d1ed-e1c41351f756",
        "id": "OXopQug7NjVI"
      },
      "execution_count": null,
      "outputs": [
        {
          "output_type": "execute_result",
          "data": {
            "text/plain": [
              "array([[7, 8, 9],\n",
              "       [4, 5, 6],\n",
              "       [1, 2, 3]])"
            ]
          },
          "metadata": {},
          "execution_count": 7
        }
      ]
    },
    {
      "cell_type": "markdown",
      "source": [
        "Behaviour with Higher Dimensions:\n",
        "\n",
        "For higher dimension arrays:\n",
        "\n",
        "* fliplr() will only affect the last two axes (the horizontal direction of the 2D slices).\n",
        "\n",
        "* flipud() will affect the first two axes (the vertical direction of the 2D slices.\n",
        "\n",
        "Both function maintain the structure of higher-dimensional arrays while flipping only the relevant 2D slices.\n",
        "\n",
        "Effects of fliplr() and flipud() on various array dimensions:\n",
        "\n",
        "* 1D array:\n",
        "\n",
        "1)fliplr(): Does not work on 1D arrays and raises and error because it expects at least 2D array.\n",
        "\n",
        "2) flipud():"
      ],
      "metadata": {
        "id": "XmvlzM84NxEM"
      }
    },
    {
      "cell_type": "code",
      "source": [
        "arr_1d = np.array([1,2,3,4,5])\n",
        "flipud_1d = np.flipud(arr_1d)\n",
        "flipud_1d"
      ],
      "metadata": {
        "colab": {
          "base_uri": "https://localhost:8080/"
        },
        "id": "xM9PsE7dQLEN",
        "outputId": "b173dc18-eeb6-47e0-cb8b-325234fe3ba7"
      },
      "execution_count": null,
      "outputs": [
        {
          "output_type": "execute_result",
          "data": {
            "text/plain": [
              "array([5, 4, 3, 2, 1])"
            ]
          },
          "metadata": {},
          "execution_count": 9
        }
      ]
    },
    {
      "cell_type": "markdown",
      "source": [
        "* 2D Array:\n",
        "\n",
        "1) fliplr():"
      ],
      "metadata": {
        "id": "n3P4ysDaRCVU"
      }
    },
    {
      "cell_type": "code",
      "source": [
        "arr_2d = np.array([[1,2,3],\n",
        "                  [4,5,6],\n",
        "                   [7,8,9]])\n",
        "fliplr_2d = np.fliplr(arr_2d)\n",
        "fliplr_2d"
      ],
      "metadata": {
        "colab": {
          "base_uri": "https://localhost:8080/"
        },
        "id": "psF7OQbfRKtR",
        "outputId": "fbfa2fae-3b03-46b3-f453-85fad50d02cf"
      },
      "execution_count": null,
      "outputs": [
        {
          "output_type": "execute_result",
          "data": {
            "text/plain": [
              "array([[3, 2, 1],\n",
              "       [6, 5, 4],\n",
              "       [9, 8, 7]])"
            ]
          },
          "metadata": {},
          "execution_count": 10
        }
      ]
    },
    {
      "cell_type": "markdown",
      "source": [
        "2) flipud():"
      ],
      "metadata": {
        "id": "nu9tCL6yRzqH"
      }
    },
    {
      "cell_type": "code",
      "source": [
        "arr_2d = np.array([[1,2,3],\n",
        "                  [4,5,6],\n",
        "                   [7,8,9]])\n",
        "flipud_2d = np.flipud(arr_2d)\n",
        "flipud_2d"
      ],
      "metadata": {
        "colab": {
          "base_uri": "https://localhost:8080/"
        },
        "outputId": "5848774f-2864-4d51-88ed-6be419da7ac2",
        "id": "JcWDpK23Rpoi"
      },
      "execution_count": null,
      "outputs": [
        {
          "output_type": "execute_result",
          "data": {
            "text/plain": [
              "array([[7, 8, 9],\n",
              "       [4, 5, 6],\n",
              "       [1, 2, 3]])"
            ]
          },
          "metadata": {},
          "execution_count": 11
        }
      ]
    },
    {
      "cell_type": "markdown",
      "source": [
        "* 3D Array:\n",
        "\n",
        "1) fliplr():"
      ],
      "metadata": {
        "id": "jqez0-dOR5rv"
      }
    },
    {
      "cell_type": "code",
      "source": [
        "arr_3d = ([[[1,2,3],\n",
        "            [4,5,6]],\n",
        "            [[7,8,9],\n",
        "            [10,11,12]]])\n",
        "fliplr_3d = np.fliplr(arr_3d)\n",
        "fliplr_3d"
      ],
      "metadata": {
        "colab": {
          "base_uri": "https://localhost:8080/"
        },
        "id": "rDlSBbi3SIiL",
        "outputId": "9151eb61-f35e-4f5c-a91b-96837c841c55"
      },
      "execution_count": null,
      "outputs": [
        {
          "output_type": "execute_result",
          "data": {
            "text/plain": [
              "array([[[ 4,  5,  6],\n",
              "        [ 1,  2,  3]],\n",
              "\n",
              "       [[10, 11, 12],\n",
              "        [ 7,  8,  9]]])"
            ]
          },
          "metadata": {},
          "execution_count": 12
        }
      ]
    },
    {
      "cell_type": "markdown",
      "source": [
        "2) flipud():"
      ],
      "metadata": {
        "id": "D85M7RWQS6jr"
      }
    },
    {
      "cell_type": "code",
      "source": [
        "arr_3d = ([[[1,2,3],\n",
        "            [4,5,6]],\n",
        "            [[7,8,9],\n",
        "            [10,11,12]]])\n",
        "flipud_3d = np.flipud(arr_3d)\n",
        "flipud_3d"
      ],
      "metadata": {
        "colab": {
          "base_uri": "https://localhost:8080/"
        },
        "outputId": "04ab6b2a-c6d0-4837-b094-78ee6d4f8c09",
        "id": "dutz_A2CS4kc"
      },
      "execution_count": null,
      "outputs": [
        {
          "output_type": "execute_result",
          "data": {
            "text/plain": [
              "array([[[ 7,  8,  9],\n",
              "        [10, 11, 12]],\n",
              "\n",
              "       [[ 1,  2,  3],\n",
              "        [ 4,  5,  6]]])"
            ]
          },
          "metadata": {},
          "execution_count": 13
        }
      ]
    },
    {
      "cell_type": "markdown",
      "source": [
        "* Higher Dimensional Arrays (4D,5D, etc):\n",
        "\n",
        "Both fliplr() and flipud() will work similarly in higher-dimensional arrays by operating on the 2D slices within these higher dimensions.\n",
        "\n",
        "Example: In a 4D array, it will operate on each 2D slice from the third and fourth dimension."
      ],
      "metadata": {
        "id": "8LHh5oT2TEqW"
      }
    },
    {
      "cell_type": "code",
      "source": [
        "arr_4d = np.random.rand(2,2,3,4)\n",
        "fliplr_4d = np.fliplr(arr_4d)\n",
        "fliplr_4d"
      ],
      "metadata": {
        "colab": {
          "base_uri": "https://localhost:8080/"
        },
        "id": "UrcGadviUF6v",
        "outputId": "cf5a2e71-3cb4-41a9-a4d7-7565c565ef2a"
      },
      "execution_count": null,
      "outputs": [
        {
          "output_type": "execute_result",
          "data": {
            "text/plain": [
              "array([[[[0.39793318, 0.30816433, 0.13593531, 0.59114123],\n",
              "         [0.04130405, 0.46014642, 0.481831  , 0.58460866],\n",
              "         [0.66100072, 0.3667484 , 0.9413822 , 0.63184474]],\n",
              "\n",
              "        [[0.8550133 , 0.62686774, 0.22399998, 0.05442906],\n",
              "         [0.2280159 , 0.42500643, 0.05096977, 0.77881707],\n",
              "         [0.53807761, 0.03868975, 0.4593695 , 0.56988095]]],\n",
              "\n",
              "\n",
              "       [[[0.46413019, 0.10551424, 0.90262057, 0.9788467 ],\n",
              "         [0.37190074, 0.40466285, 0.39904408, 0.91402479],\n",
              "         [0.4741752 , 0.10743144, 0.86943799, 0.85761773]],\n",
              "\n",
              "        [[0.52398435, 0.21809003, 0.81598715, 0.64793009],\n",
              "         [0.07178121, 0.06222541, 0.83944664, 0.39415189],\n",
              "         [0.32984744, 0.62370523, 0.95317297, 0.64714614]]]])"
            ]
          },
          "metadata": {},
          "execution_count": 14
        }
      ]
    },
    {
      "cell_type": "code",
      "source": [
        "arr_4d = np.random.rand(2,2,3,4)\n",
        "flipud_4d = np.flipud(arr_4d)\n",
        "flipud_4d"
      ],
      "metadata": {
        "colab": {
          "base_uri": "https://localhost:8080/"
        },
        "outputId": "dbbfb62e-13db-4998-da6f-9d232c30ae78",
        "id": "HznDbcZxUoTo"
      },
      "execution_count": null,
      "outputs": [
        {
          "output_type": "execute_result",
          "data": {
            "text/plain": [
              "array([[[[0.2657777 , 0.08894719, 0.40679903, 0.68859852],\n",
              "         [0.53963761, 0.12579467, 0.36002314, 0.83566875],\n",
              "         [0.73497766, 0.96348083, 0.43960106, 0.17206641]],\n",
              "\n",
              "        [[0.6065434 , 0.46206862, 0.76611425, 0.50390065],\n",
              "         [0.20946465, 0.57655767, 0.8877946 , 0.78599283],\n",
              "         [0.38643119, 0.23451487, 0.07487145, 0.44020208]]],\n",
              "\n",
              "\n",
              "       [[[0.60365388, 0.18937692, 0.50264691, 0.27466533],\n",
              "         [0.16247613, 0.9379582 , 0.48740875, 0.23761421],\n",
              "         [0.30150422, 0.22711549, 0.35531452, 0.92790768]],\n",
              "\n",
              "        [[0.15294989, 0.10273525, 0.20587797, 0.2778195 ],\n",
              "         [0.71672762, 0.51769643, 0.41327943, 0.92197519],\n",
              "         [0.40557055, 0.80880332, 0.58376969, 0.40078245]]]])"
            ]
          },
          "metadata": {},
          "execution_count": 15
        }
      ]
    },
    {
      "cell_type": "markdown",
      "source": [
        "#9) Discuss the functionality of array_split() method in NumPy. How does it handles uneven splits?\n",
        "\n",
        "Solution:\n",
        "\n",
        "In Numpy, the array_split() method is used to split an array into multiple sub-arrays along a specified axis. It is similar to the split method but with a key difference: array_split() can handle uneven splits, meaning it does nor require that the array be divisible by the number of splits.\n",
        "\n",
        "Key Features of array_split():\n",
        "\n",
        "1) General Usage: It splits an array into sub-arrays, dividing the array into approximately equal parts.\n",
        "\n",
        "2) Uneven Splits: If the array cannot be divided evenly, array_split() ensures that the sub-arrays are as balanced as possible, meaning some of the sub-arrays will have more elements than others.\n",
        "\n",
        "3) Axis: The splitting can be done along a specific axis (default is axis=0).\n",
        "\n",
        "Syntax:\n"
      ],
      "metadata": {
        "id": "5cTTrgBXUz8f"
      }
    },
    {
      "cell_type": "code",
      "source": [
        "numpy.array_split(ary, indices_or_sections, axis=0)"
      ],
      "metadata": {
        "id": "JlVUdPpyZOAd"
      },
      "execution_count": null,
      "outputs": []
    },
    {
      "cell_type": "markdown",
      "source": [
        "* ary: The input array you want to split.\n",
        "\n",
        "* indices_or_section: If an integer, it defines the number of equal splits. If a list, it defines the indices at which to split.\n",
        "\n",
        "* Axis: The axis along which to split the array (default is axis=0).\n",
        "\n",
        "Examples:\n",
        "\n",
        "1) Even Splitting (when the number of splits evenly divides the array):"
      ],
      "metadata": {
        "id": "B3n18fbjZdDp"
      }
    },
    {
      "cell_type": "code",
      "source": [
        "arr = np.arange(12)\n",
        "splits = np.array_split(arr, 4)\n",
        "for split in splits:\n",
        "  print(split)"
      ],
      "metadata": {
        "colab": {
          "base_uri": "https://localhost:8080/"
        },
        "id": "QwW1SAuHaz3E",
        "outputId": "78ffbcca-12ff-41e0-aa33-c1e2c1534e93"
      },
      "execution_count": null,
      "outputs": [
        {
          "output_type": "stream",
          "name": "stdout",
          "text": [
            "[0 1 2]\n",
            "[3 4 5]\n",
            "[6 7 8]\n",
            "[ 9 10 11]\n"
          ]
        }
      ]
    },
    {
      "cell_type": "markdown",
      "source": [
        "2) Uneven Splitting (when the array cannot be evenly divided by the number of splits):"
      ],
      "metadata": {
        "id": "MkvpsNSNbTyL"
      }
    },
    {
      "cell_type": "code",
      "source": [
        "arr = np.arange(10)\n",
        "splits = np.array_split(arr, 3)\n",
        "for split in splits:\n",
        "  print(split)"
      ],
      "metadata": {
        "colab": {
          "base_uri": "https://localhost:8080/"
        },
        "id": "a0OgIOKmbQLQ",
        "outputId": "2e292e8f-aafe-4510-c584-c7dddc56687c"
      },
      "execution_count": null,
      "outputs": [
        {
          "output_type": "stream",
          "name": "stdout",
          "text": [
            "[0 1 2 3]\n",
            "[4 5 6]\n",
            "[7 8 9]\n"
          ]
        }
      ]
    },
    {
      "cell_type": "markdown",
      "source": [
        "Handling Uneven Splits:\n",
        "\n",
        "* When the number of elements in the array does not divide evenly by the specified number of splits, array_split() distributes the elements as evenly as possible.\n",
        "\n",
        "* The earlier sub-arrays will recieve one extra element if necessary.\n",
        "\n",
        "Splitting Along Different Axes:\n",
        "\n",
        "Example (2D Array):"
      ],
      "metadata": {
        "id": "ithMAIsIb-kL"
      }
    },
    {
      "cell_type": "code",
      "source": [
        "arr_2d = np.array([[1,2,3],\n",
        "                   [4,5,6],\n",
        "                   [7,8,9],\n",
        "                   [10,11,12]])\n",
        "splits = np.array_split(arr_2d, 3, axis=0)\n",
        "for split in splits:\n",
        "  print(split)"
      ],
      "metadata": {
        "colab": {
          "base_uri": "https://localhost:8080/"
        },
        "id": "Asz1Fh9ZcvW3",
        "outputId": "ca848fd6-6793-48e9-91e0-dd20f3597c99"
      },
      "execution_count": null,
      "outputs": [
        {
          "output_type": "stream",
          "name": "stdout",
          "text": [
            "[[1 2 3]\n",
            " [4 5 6]]\n",
            "[[7 8 9]]\n",
            "[[10 11 12]]\n"
          ]
        }
      ]
    },
    {
      "cell_type": "markdown",
      "source": [
        "The 2D array with 4 rows is split into 3 parts along axis=0(rows), resulting in one part with 2 rows and the other two with 1 row each.\n",
        "\n",
        "Example with Custom Indices:\n",
        "\n",
        "If you want to split the array at specific indicesinstead of requesting a number of splits, you can pass a listof indices."
      ],
      "metadata": {
        "id": "Ro17PHJ7d18e"
      }
    },
    {
      "cell_type": "code",
      "source": [
        "arr = np.arange(10)\n",
        "splits = np.array_split(arr, [3,5])\n",
        "for split in splits:\n",
        "  print(split)"
      ],
      "metadata": {
        "colab": {
          "base_uri": "https://localhost:8080/"
        },
        "id": "NFgePkpbfdKj",
        "outputId": "32b77be9-b659-40f9-a6e4-fb10339bcbd0"
      },
      "execution_count": null,
      "outputs": [
        {
          "output_type": "stream",
          "name": "stdout",
          "text": [
            "[0 1 2]\n",
            "[3 4]\n",
            "[5 6 7 8 9]\n"
          ]
        }
      ]
    },
    {
      "cell_type": "markdown",
      "source": [
        "The array is split at index 3 and index 5:\n",
        "\n",
        " * The first sub-array has elements [0,1,2] (from index 1 to 2).\n",
        "\n",
        " * The second sub-array has elements [3,4] (from index 3 to 4).\n",
        "\n",
        " * The third sub-array has elements [5,6,7,8,9] (from index 5 onwards).\n",
        "\n",
        " # 10) Explain the concepts of vectorization and broadcasting in NumPy.How do they contribute to efficient array operations?\n",
        "\n",
        " Solution:\n",
        "\n",
        " Vectorization and Broadcasting are two key concepts in NumPy that enable efficient and optimized data operations. They help avoid explicit loops, making operation faster by utilizing low level optimization and taking advantage of hardware capabilities like SIMD (Single Instruction, Multiple Data).\n",
        "\n",
        " Vectorization:\n",
        "\n",
        " Definition:\n",
        "\n",
        " Vectorization refers to performing operations on entire arrays(vectors and matrices) element-wise, without using explicit loops. In NumPy, opearations like addition, substraction, multiplication, and other mathematical functions are automatically vectorized, allowing them to be applied to all elements of an array at once.\n",
        "\n",
        " Mechanism of Vectorization:\n",
        "\n",
        " * Instead of writing a loop to perform operations element-by-element, NumPy allows you to perform operations directly on the entire array.\n",
        "\n",
        " Example:\n",
        "\n",
        " Without vectorization (using explicit loops):\n",
        "\n"
      ],
      "metadata": {
        "id": "N-QHTDB7f1Bl"
      }
    },
    {
      "cell_type": "code",
      "source": [
        "a = np.array([1,2,3,4])\n",
        "b = np.array([5,6,7,8])\n",
        "\n",
        "result = np.empty_like(a)\n",
        "for i in range(len(a)):\n",
        "  result[i] = a[i] + b[i]\n",
        "print(result)"
      ],
      "metadata": {
        "colab": {
          "base_uri": "https://localhost:8080/"
        },
        "id": "2K5i7wLJmCNU",
        "outputId": "20c00794-0e50-4e68-e032-fbf3068e820f"
      },
      "execution_count": null,
      "outputs": [
        {
          "output_type": "stream",
          "name": "stdout",
          "text": [
            "[ 6  8 10 12]\n"
          ]
        }
      ]
    },
    {
      "cell_type": "markdown",
      "source": [
        "With vectorization:"
      ],
      "metadata": {
        "id": "bmzgMPh-nD21"
      }
    },
    {
      "cell_type": "code",
      "source": [
        "a = np.array([1,2,3,4])\n",
        "b = np.array([5,6,7,8])\n",
        "\n",
        "result = a+b   #vectorized operation\n",
        "print(result)"
      ],
      "metadata": {
        "colab": {
          "base_uri": "https://localhost:8080/"
        },
        "outputId": "b9dbf4d2-c1fc-43a9-cc9c-b17720084811",
        "id": "TVWEFKBNnLVb"
      },
      "execution_count": null,
      "outputs": [
        {
          "output_type": "stream",
          "name": "stdout",
          "text": [
            "[ 6  8 10 12]\n"
          ]
        }
      ]
    },
    {
      "cell_type": "markdown",
      "source": [
        "Benefits of Vectorization:\n",
        "\n",
        "1) Performance: Vectorized operations are significantly faster than explicit loops because NumPy executes the operations in compliled, low-level code rather than in Python's interpreter.\n",
        "\n",
        "2) Simplicity: Code is easier to write and read because the operations are expressed in a high-level manner.\n",
        "\n",
        "3) Optimization: NumPy automatically optmizes operations for the hardware.\n",
        "\n",
        "Broadcasting:\n",
        "\n",
        "Definition:\n",
        "\n",
        "Broadcasting is a mechanism in NumPy that allows arrays with different shapes to be combined in arithmatic operations. It works by streatching smaller arrays along specific axes so that they match the dimensions of the larger array.\n",
        "\n",
        "Mechanism of Broadcasting:\n",
        "\n",
        "When two arrays with different shapes are used in an operation, NumPy tries to \"Broadcast\" the smaller array to match the shape of the larger one. This allows operations like addition,multiplication, etc., to be applied without the need to explicitly reshape arrays.\n",
        "\n",
        "Broadcasting Rules:\n",
        "\n",
        "1) Same shape: If the array have the same shape, they can be operated element-wise directly.\n",
        "\n",
        "2) Dimension alignment: If arrays have different shapes, NumPy compares their dimensions from right to left. Arrays are compatible if:\n",
        "\n",
        "* They have the same size in a dimension.\n",
        "\n",
        "* One of the array has a size of 1 in a dimension (which can be \"stretched\").\n",
        "\n",
        "Example:\n",
        "\n"
      ],
      "metadata": {
        "id": "h1Ye5PKino8u"
      }
    },
    {
      "cell_type": "code",
      "source": [
        "a = np.array([1,2,3])\n",
        "b = np.array([[10], [20], [30]])\n",
        "result = a+b\n",
        "result"
      ],
      "metadata": {
        "colab": {
          "base_uri": "https://localhost:8080/"
        },
        "id": "_hlXUB1OrHEN",
        "outputId": "8681b0d3-f860-4a9a-edf5-426e26405c15"
      },
      "execution_count": null,
      "outputs": [
        {
          "output_type": "execute_result",
          "data": {
            "text/plain": [
              "array([[11, 12, 13],\n",
              "       [21, 22, 23],\n",
              "       [31, 32, 33]])"
            ]
          },
          "metadata": {},
          "execution_count": 25
        }
      ]
    },
    {
      "cell_type": "markdown",
      "source": [
        "* a is reshaped from (3,) to (1,3) for broadcasting.\n",
        "\n",
        "* b is reshaped from (3,1) to (3,3) by \"stretching\" along the last dimension.\n",
        "\n",
        "Example with Scalar:\n",
        "\n",
        "A scalar value can be broadcast to an entire array. For example:"
      ],
      "metadata": {
        "id": "spcuCJp6rwZp"
      }
    },
    {
      "cell_type": "code",
      "source": [
        "a = np.array([1,2,3])\n",
        "result = a + 5\n",
        "result"
      ],
      "metadata": {
        "colab": {
          "base_uri": "https://localhost:8080/"
        },
        "id": "cTTSodvUscnm",
        "outputId": "005eed22-4e93-458c-bc04-df2b33359430"
      },
      "execution_count": null,
      "outputs": [
        {
          "output_type": "execute_result",
          "data": {
            "text/plain": [
              "array([6, 7, 8])"
            ]
          },
          "metadata": {},
          "execution_count": 26
        }
      ]
    },
    {
      "cell_type": "markdown",
      "source": [
        "The scalar 5 is broadcast to the shape of a, and the operation is applied element-wise.\n",
        "\n",
        "Benefits of Broadcasting:\n",
        "\n",
        "1) Memory Efficiency: Broadcasting avoids the need to create copies of arrays, especially when combining large arrays with smaller ones.\n",
        "\n",
        "2) Concise Code: Broadcasting allows for concise code without the need to explicit reshaping or replicatin of arrays.\n",
        "\n",
        "3) Performance: Since broadcasting operates on the underlying data without making extra copies, it is memory-efficient and can significantly improve performance for large databases.\n",
        "\n",
        "Example Combining Vectorization and Broadcasting:"
      ],
      "metadata": {
        "id": "m40VmlMosuJ3"
      }
    },
    {
      "cell_type": "code",
      "source": [
        "a = np.array([1,2,3])            # Shape: (3,)\n",
        "b = np.array([[10], [20], [30]]) # Shape: (3,1)\n",
        "result = a*b # Broadcasting allows element-wise multiplication between arrays of different shapes\n",
        "result"
      ],
      "metadata": {
        "colab": {
          "base_uri": "https://localhost:8080/"
        },
        "id": "x2PVsTTkuHqM",
        "outputId": "40877bb1-c827-4745-be9e-7d0b0d560093"
      },
      "execution_count": null,
      "outputs": [
        {
          "output_type": "execute_result",
          "data": {
            "text/plain": [
              "array([[10, 20, 30],\n",
              "       [20, 40, 60],\n",
              "       [30, 60, 90]])"
            ]
          },
          "metadata": {},
          "execution_count": 29
        }
      ]
    },
    {
      "cell_type": "markdown",
      "source": [
        "In this example:\n",
        "\n",
        "* Vectorization allows the element-wise multiplication between the arrays.\n",
        "\n",
        "* Broadcasting enables the multiplication by alighning the shapes of the two arrays.\n",
        "\n",
        "Both vectorization and broadcasting work together to boost the performance of array operation in NumPy, taking advantage of hardware-level optimizations and simplifying the code."
      ],
      "metadata": {
        "id": "4OeoLOzwu1tY"
      }
    }
  ],
  "metadata": {
    "colab": {
      "provenance": []
    },
    "kernelspec": {
      "display_name": "Python 3",
      "name": "python3"
    },
    "language_info": {
      "name": "python"
    }
  },
  "nbformat": 4,
  "nbformat_minor": 0
}